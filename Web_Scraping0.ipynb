{
 "cells": [
  {
   "cell_type": "markdown",
   "id": "61228061",
   "metadata": {},
   "source": [
    "---\n",
    "\n",
    "## Ejercicio 1\n",
    "\n",
    "Realiza Web Scraping de una pagina de la bolsa de Madrid usando BeautifulSoup y Selenium\n",
    "\n",
    "---"
   ]
  },
  {
   "cell_type": "markdown",
   "id": "e5b67235",
   "metadata": {},
   "source": [
    "Extraeremos de la bolsa de Madrid los datos basicos de las acciones de las compañias energeticas mas importantes. \n",
    "\n",
    "Lo haremos usando las 2 tecnicas indicadas: BeautifulSoup y Selenium."
   ]
  },
  {
   "cell_type": "code",
   "execution_count": 1,
   "id": "c8d6df20",
   "metadata": {},
   "outputs": [],
   "source": [
    "from bs4 import BeautifulSoup\n",
    "import requests"
   ]
  },
  {
   "cell_type": "markdown",
   "id": "5ebd5b81",
   "metadata": {},
   "source": [
    "Definimos **isin_empr_ener** un diccionario con el codigo ISIN de las empresas energeticas mas importantes.\n",
    "\n",
    "Completaremos la direccion de cotizacion de cada empresa con su codigo ISIN\n",
    "\n",
    "**url_bolsa** tiene la direccion base de la cotizacion de las empresas"
   ]
  },
  {
   "cell_type": "code",
   "execution_count": 2,
   "id": "18870161",
   "metadata": {},
   "outputs": [],
   "source": [
    "url_bolsa = \"https://www.bolsamadrid.es/esp/aspx/Empresas/FichaValor.aspx?ISIN=\"\n",
    "\n",
    "isin_empr_ener={'Iberdrola':'ES0144580Y14', 'Endesa':'ES0130670112', 'Naturgy':'ES0116870314', 'Repsol':'ES0173516115',\n",
    "                'Acciona':'ES0105563003', 'Enagas':'ES0130960018', 'Red Electrica': 'ES0173093024',\n",
    "                'Audax Renovables':'ES0136463017', 'SolarPack':'ES0105385001', 'Solaria': 'ES0165386014',\n",
    "               'Green Energy': 'ES0105079000'}"
   ]
  },
  {
   "cell_type": "markdown",
   "id": "aa7fa2e1",
   "metadata": {},
   "source": [
    "Implementemos un bucle que extraiga de la pagina de cotizacion de cada empresa los datos de cotizacion de interes."
   ]
  },
  {
   "cell_type": "code",
   "execution_count": 3,
   "id": "4b4fb8b6",
   "metadata": {},
   "outputs": [
    {
     "name": "stdout",
     "output_type": "stream",
     "text": [
      "Nombre de la Compañia:  IBERDROLA, S.A.\n",
      "Portal Internet: http://www.iberdrola.es\n",
      "Capital Social de IBERDROLA, S.A. :  4.774.566.000,00 Euros\n",
      "Cotizacion: 9,7500\n",
      "Variación:  1,25 %\n",
      "Volumen Sesion: 5.252.833 = 50.980.012,69 €\n",
      "Actualizado a: 03/12/2021 - 11:15:16\n",
      "-------------------------------------------------------------\n",
      "Nombre de la Compañia:  ENDESA, SOCIEDAD ANONIMA\n",
      "Portal Internet: http://www.endesa.com\n",
      "Capital Social de ENDESA, SOCIEDAD ANONIMA :  1.270.502.540,40 Euros\n",
      "Cotizacion: 19,4700\n",
      "Variación:  0,10 %\n",
      "Volumen Sesion: 164.305 = 3.196.125,15 €\n",
      "Actualizado a: 03/12/2021 - 11:15:21\n",
      "-------------------------------------------------------------\n",
      "Nombre de la Compañia:  NATURGY ENERGY GROUP, S.A.\n",
      "Portal Internet: https://www.naturgy.com\n",
      "Capital Social de NATURGY ENERGY GROUP, S.A. :  969.613.801,00 Euros\n",
      "Cotizacion: 24,5100\n",
      "Variación:  0,25 %\n",
      "Volumen Sesion: 99.043 = 2.420.592,61 €\n",
      "Actualizado a: 03/12/2021 - 11:14:56\n",
      "-------------------------------------------------------------\n",
      "Nombre de la Compañia:  REPSOL, S.A.\n",
      "Portal Internet: http://www.repsol.es\n",
      "Capital Social de REPSOL, S.A. :  1.527.396.053,00 Euros\n",
      "Cotizacion: 10,2080\n",
      "Variación:  1,05 %\n",
      "Volumen Sesion: 984.268 = 10.069.294,90 €\n",
      "Actualizado a: 03/12/2021 - 11:15:16\n",
      "-------------------------------------------------------------\n",
      "Nombre de la Compañia:  CORP.  ACCIONA ENERGÍAS RENOVABLES, S.A.\n",
      "Portal Internet: https://www.acciona-energia.com\n",
      "Capital Social de CORP.  ACCIONA ENERGÍAS RENOVABLES, S.A. :  329.250.589,00 Euros\n",
      "Cotizacion: 30,4000\n",
      "Variación:  2,32 %\n",
      "Volumen Sesion: 18.003 = 544.159,48 €\n",
      "Actualizado a: 03/12/2021 - 11:13:49\n",
      "-------------------------------------------------------------\n",
      "Nombre de la Compañia:  ENAGAS, S.A.\n",
      "Portal Internet: http://www.enagas.com\n",
      "Capital Social de ENAGAS, S.A. :  392.985.111,00 Euros\n",
      "Cotizacion: 20,1500\n",
      "Variación:  1,59 %\n",
      "Volumen Sesion: 113.497 = 2.275.944,82 €\n",
      "Actualizado a: 03/12/2021 - 11:15:08\n",
      "-------------------------------------------------------------\n",
      "Nombre de la Compañia:  RED ELECTRICA CORPORACION, S.A.\n",
      "Portal Internet: http://www.ree.es\n",
      "Capital Social de RED ELECTRICA CORPORACION, S.A. :  270.540.000,00 Euros\n",
      "Cotizacion: 18,6050\n",
      "Variación:  1,06 %\n",
      "Volumen Sesion: 122.790 = 2.276.074,90 €\n",
      "Actualizado a: 03/12/2021 - 11:13:39\n",
      "-------------------------------------------------------------\n",
      "Nombre de la Compañia:  AUDAX RENOVABLES, S.A.\n",
      "Portal Internet: http://www.audaxrenovables.com\n",
      "Capital Social de AUDAX RENOVABLES, S.A. :  44.029.105,40 Euros\n",
      "Cotizacion: 1,2490\n",
      "Variación:  0,73 %\n",
      "Volumen Sesion: 185.948 = 234.004,44 €\n",
      "Actualizado a: 03/12/2021 - 11:08:23\n",
      "-------------------------------------------------------------\n",
      "Nombre de la Compañia:  SOLARPACK CORPORACION TECNOL. S.A.\n",
      "Portal Internet: https://www.solarpack.es/\n",
      "Capital Social de SOLARPACK CORPORACION TECNOL. S.A. :  13.301.204,00 Euros\n",
      "Cotizacion: 26,4500\n",
      "Variación:  0,19 %\n",
      "Volumen Sesion: 2.051 = 54.251,55 €\n",
      "Actualizado a: 03/12/2021 - 10:19:35\n",
      "-------------------------------------------------------------\n",
      "Nombre de la Compañia:  SOLARIA ENERGIA Y MEDIO AMBIENTE, S.A.\n",
      "Portal Internet: http://www.solariaenergia.com\n",
      "Capital Social de SOLARIA ENERGIA Y MEDIO AMBIENTE, S.A. :  1.249.508,76 Euros\n",
      "Cotizacion: 16,3100\n",
      "Variación:  3,06 %\n",
      "Volumen Sesion: 190.002 = 3.057.673,33 €\n",
      "Actualizado a: 03/12/2021 - 11:15:15\n",
      "-------------------------------------------------------------\n",
      "Nombre de la Compañia:  GRENERGY RENOVABLES, S.A.\n",
      "Portal Internet: http://grenergy.eu/es/home/\n",
      "Capital Social de GRENERGY RENOVABLES, S.A. :  9.774.418,85 Euros\n",
      "Cotizacion: 30,2500\n",
      "Variación:  0,33 %\n",
      "Volumen Sesion: 6.623 = 199.353,80 €\n",
      "Actualizado a: 03/12/2021 - 11:15:08\n",
      "-------------------------------------------------------------\n"
     ]
    }
   ],
   "source": [
    "for k, v in isin_empr_ener.items():\n",
    "\n",
    "    source = requests.get( url_bolsa + v).text\n",
    "    soup = BeautifulSoup(source, 'lxml')\n",
    "\n",
    "    company = soup.find('th', class_='Ult')\n",
    "    web_site = company.a['href']\n",
    "    capital_social = soup.find(id='ctl00_Contenido_CabEmisora_CapSocDat' ).text\n",
    "    \n",
    "    tabla_cotiz = soup.find(id='ctl00_Contenido_tblPrecios')\n",
    "    cotiz_row = tabla_cotiz.find_all('tr')\n",
    "    cotiz = cotiz_row[1].find_all('td')\n",
    "    var = cotiz[4].text\n",
    "    vol_ses = cotiz[9].text\n",
    "    vol_efec = cotiz[10].text\n",
    "\n",
    "    print('Nombre de la Compañia: ', company.text)\n",
    "    print('Portal Internet:', web_site)\n",
    "    print('Capital Social de', company.text, ': ', capital_social)\n",
    "    print('Cotizacion:', cotiz[5].text)\n",
    "    print('Variación: ', var, '%')\n",
    "    print('Volumen Sesion:', vol_ses, '=',vol_efec,'€')\n",
    "    print('Actualizado a:', cotiz[0].text ,'-',cotiz[1].text)\n",
    "    print('-------------------------------------------------------------')"
   ]
  },
  {
   "cell_type": "markdown",
   "id": "127aa4f9",
   "metadata": {},
   "source": [
    "Ahora extraeremos la misma informacion bursatil de las compañias electricas pero utilizando Selenium.\n",
    "\n",
    "Importamos las librerias necesarias."
   ]
  },
  {
   "cell_type": "code",
   "execution_count": 4,
   "id": "54a00409",
   "metadata": {},
   "outputs": [],
   "source": [
    "from selenium import webdriver\n",
    "from selenium.webdriver.chrome.service import Service\n",
    "from selenium.webdriver.common.keys import Keys\n",
    "from selenium.webdriver.common.by import By\n",
    "from selenium.webdriver.support.ui import WebDriverWait\n"
   ]
  },
  {
   "cell_type": "markdown",
   "id": "6c0512bd",
   "metadata": {},
   "source": [
    "Usaremos como direccion base la url de la portada de la bolsa de Madrid\n",
    "\n",
    "Indicamos la ubicacion del driver de control del navegador, que en este caso será Chrome"
   ]
  },
  {
   "cell_type": "code",
   "execution_count": 5,
   "id": "2af5639e",
   "metadata": {},
   "outputs": [],
   "source": [
    "file_path = 'C:/Users/sergi/python/chromedriver.exe'\n",
    "\n",
    "url='https://www.bolsamadrid.es/esp/aspx/Portada/Portada.aspx'"
   ]
  },
  {
   "cell_type": "markdown",
   "id": "6aa1d965",
   "metadata": {},
   "source": [
    "Hagamos un bucle para extraer la informacion bursatil de todas las empresas pero esta vez con Selenium.\n",
    "\n",
    "Este bucle abrira un navegador para cada empresa, realizara la busqueda segun su ISIN y estraerá la información de interes."
   ]
  },
  {
   "cell_type": "code",
   "execution_count": 6,
   "id": "43025675",
   "metadata": {},
   "outputs": [
    {
     "name": "stdout",
     "output_type": "stream",
     "text": [
      "Nombre de la Compañia:  IBERDROLA, S.A.\n",
      "Portal Internet: http://www.iberdrola.es/\n",
      "Capital Social de IBERDROLA, S.A. :  4.774.566.000,00 Euros\n",
      "Cotizacion: 9,7480\n",
      "Variación:  1,23 %\n",
      "Volumen Sesion: 5.260.003 = 51.049.905,28 €\n",
      "Actualizado a: 03/12/2021 - 11:16:31\n",
      "-------------------------------------------------------------\n",
      "Nombre de la Compañia:  ENDESA, SOCIEDAD ANONIMA\n",
      "Portal Internet: http://www.endesa.com/\n",
      "Capital Social de ENDESA, SOCIEDAD ANONIMA :  1.270.502.540,40 Euros\n",
      "Cotizacion: 19,4750\n",
      "Variación:  0,13 %\n",
      "Volumen Sesion: 168.033 = 3.268.729,20 €\n",
      "Actualizado a: 03/12/2021 - 11:16:11\n",
      "-------------------------------------------------------------\n",
      "Nombre de la Compañia:  NATURGY ENERGY GROUP, S.A.\n",
      "Portal Internet: https://www.naturgy.com/\n",
      "Capital Social de NATURGY ENERGY GROUP, S.A. :  969.613.801,00 Euros\n",
      "Cotizacion: 24,5100\n",
      "Variación:  0,25 %\n",
      "Volumen Sesion: 99.043 = 2.420.592,61 €\n",
      "Actualizado a: 03/12/2021 - 11:14:56\n",
      "-------------------------------------------------------------\n",
      "Nombre de la Compañia:  REPSOL, S.A.\n",
      "Portal Internet: http://www.repsol.es/\n",
      "Capital Social de REPSOL, S.A. :  1.527.396.053,00 Euros\n",
      "Cotizacion: 10,2060\n",
      "Variación:  1,03 %\n",
      "Volumen Sesion: 985.493 = 10.081.798,82 €\n",
      "Actualizado a: 03/12/2021 - 11:16:21\n",
      "-------------------------------------------------------------\n",
      "Nombre de la Compañia:  CORP. ACCIONA ENERGÍAS RENOVABLES, S.A.\n",
      "Portal Internet: https://www.acciona-energia.com/\n",
      "Capital Social de CORP. ACCIONA ENERGÍAS RENOVABLES, S.A. :  329.250.589,00 Euros\n",
      "Cotizacion: 30,4000\n",
      "Variación:  2,32 %\n",
      "Volumen Sesion: 18.003 = 544.159,48 €\n",
      "Actualizado a: 03/12/2021 - 11:13:49\n",
      "-------------------------------------------------------------\n",
      "Nombre de la Compañia:  ENAGAS, S.A.\n",
      "Portal Internet: http://www.enagas.com/\n",
      "Capital Social de ENAGAS, S.A. :  392.985.111,00 Euros\n",
      "Cotizacion: 20,1300\n",
      "Variación:  1,49 %\n",
      "Volumen Sesion: 114.008 = 2.286.233,32 €\n",
      "Actualizado a: 03/12/2021 - 11:16:26\n",
      "-------------------------------------------------------------\n",
      "Nombre de la Compañia:  RED ELECTRICA CORPORACION, S.A.\n",
      "Portal Internet: http://www.ree.es/\n",
      "Capital Social de RED ELECTRICA CORPORACION, S.A. :  270.540.000,00 Euros\n",
      "Cotizacion: 18,5850\n",
      "Variación:  0,95 %\n",
      "Volumen Sesion: 125.632 = 2.328.905,55 €\n",
      "Actualizado a: 03/12/2021 - 11:16:23\n",
      "-------------------------------------------------------------\n",
      "Nombre de la Compañia:  AUDAX RENOVABLES, S.A.\n",
      "Portal Internet: http://www.audaxrenovables.com/\n",
      "Capital Social de AUDAX RENOVABLES, S.A. :  44.029.105,40 Euros\n",
      "Cotizacion: 1,2490\n",
      "Variación:  0,73 %\n",
      "Volumen Sesion: 185.948 = 234.004,44 €\n",
      "Actualizado a: 03/12/2021 - 11:08:23\n",
      "-------------------------------------------------------------\n",
      "Nombre de la Compañia:  SOLARPACK CORPORACION TECNOL. S.A.\n",
      "Portal Internet: https://www.solarpack.es/\n",
      "Capital Social de SOLARPACK CORPORACION TECNOL. S.A. :  13.301.204,00 Euros\n",
      "Cotizacion: 26,4500\n",
      "Variación:  0,19 %\n",
      "Volumen Sesion: 2.051 = 54.251,55 €\n",
      "Actualizado a: 03/12/2021 - 10:19:35\n",
      "-------------------------------------------------------------\n",
      "Nombre de la Compañia:  SOLARIA ENERGIA Y MEDIO AMBIENTE, S.A.\n",
      "Portal Internet: http://www.solariaenergia.com/\n",
      "Capital Social de SOLARIA ENERGIA Y MEDIO AMBIENTE, S.A. :  1.249.508,76 Euros\n",
      "Cotizacion: 16,3300\n",
      "Variación:  3,19 %\n",
      "Volumen Sesion: 190.502 = 3.065.836,09 €\n",
      "Actualizado a: 03/12/2021 - 11:17:08\n",
      "-------------------------------------------------------------\n",
      "Nombre de la Compañia:  GRENERGY RENOVABLES, S.A.\n",
      "Portal Internet: http://grenergy.eu/es/home/\n",
      "Capital Social de GRENERGY RENOVABLES, S.A. :  9.774.418,85 Euros\n",
      "Cotizacion: 30,2500\n",
      "Variación:  0,33 %\n",
      "Volumen Sesion: 6.623 = 199.353,80 €\n",
      "Actualizado a: 03/12/2021 - 11:15:08\n",
      "-------------------------------------------------------------\n"
     ]
    }
   ],
   "source": [
    "for k, v in isin_empr_ener.items():\n",
    "    \n",
    "    s = Service(file_path)\n",
    "    driver = webdriver.Chrome(service=s)\n",
    "    driver.get(url)\n",
    "    \n",
    "    search = driver.find_element(By.NAME, 'busq')\n",
    "    search.send_keys(v)\n",
    "    search.send_keys(Keys.RETURN)\n",
    "    \n",
    "    wait = WebDriverWait(driver, 2)\n",
    "    \n",
    "    table = driver.find_element(By.ID, \"ctl00_Contenido_tblEmisoras\")\n",
    "    result = table.find_element(By.TAG_NAME, 'a')\n",
    "    result.click()\n",
    "    \n",
    "    table2 = driver.find_element(By.ID, \"ctl00_Contenido_tblPrecios\")\n",
    "    cells = table2.find_elements(By.TAG_NAME, 'td')\n",
    "    \n",
    "    table3 = driver.find_element(By.ID, \"ctl00_Contenido_CabEmisora_tblEmisora\")\n",
    "    empresa = table3.find_element(By.CLASS_NAME, \"Ult\")\n",
    "    \n",
    "    link = table3.find_element(By.TAG_NAME, 'a')\n",
    "    link_empr= link.get_attribute('href')\n",
    "    \n",
    "    cap_soc = driver.find_element(By.ID,\"ctl00_Contenido_CabEmisora_CapSocDat\" )\n",
    "    \n",
    "    print('Nombre de la Compañia: ', empresa.text)\n",
    "    print('Portal Internet:', link_empr)\n",
    "    print('Capital Social de', empresa.text, ': ', cap_soc.text)\n",
    "    print('Cotizacion:', cells[5].text)\n",
    "    print('Variación: ', cells[4].text, '%')\n",
    "    print('Volumen Sesion:', cells[9].text, '=',cells[10].text,'€')\n",
    "    print('Actualizado a:', cells[0].text ,'-',cells[1].text)\n",
    "    print('-------------------------------------------------------------')\n",
    "    \n",
    "    # cerramos la pestaña del navegador\n",
    "    driver.close()\n",
    "    "
   ]
  },
  {
   "cell_type": "markdown",
   "id": "0cc79ce7",
   "metadata": {},
   "source": [
    "--------------------\n",
    "\n",
    "## Ejercicio 2\n",
    "\n",
    "Documenta en un word la informacion generada con el web scrapping.\n",
    "\n",
    "-------------------"
   ]
  },
  {
   "cell_type": "markdown",
   "id": "a0d1ad4d",
   "metadata": {},
   "source": [
    "Guardamos en un csv la informacion bursatil de las empresas energeticas\n",
    "\n",
    "Modificamos el bucle para guardar la informacion en el archivo csv en vez de dar la salida por el terminal"
   ]
  },
  {
   "cell_type": "code",
   "execution_count": 7,
   "id": "065af23f",
   "metadata": {},
   "outputs": [],
   "source": [
    "import csv"
   ]
  },
  {
   "cell_type": "code",
   "execution_count": 8,
   "id": "759dbc3a",
   "metadata": {},
   "outputs": [
    {
     "data": {
      "text/plain": [
       "98"
      ]
     },
     "execution_count": 8,
     "metadata": {},
     "output_type": "execute_result"
    }
   ],
   "source": [
    "csv_file = open('datos_bolsa.csv', 'w', newline='')\n",
    "\n",
    "csv_writer = csv.writer(csv_file)\n",
    "csv_writer.writerow(['Empresa', 'Página Web', 'Capital Social', 'Cotización',\n",
    "                     'Variación', 'Volumen acciones', 'Volumen Euros', 'Fecha',\n",
    "                    'Hora'])"
   ]
  },
  {
   "cell_type": "code",
   "execution_count": 9,
   "id": "2dfc8941",
   "metadata": {},
   "outputs": [],
   "source": [
    "for k, v in isin_empr_ener.items():\n",
    "\n",
    "    source = requests.get( url_bolsa + v).text\n",
    "    soup = BeautifulSoup(source, 'lxml')\n",
    "\n",
    "    company = soup.find('th', class_='Ult') \n",
    "    web_site = company.a['href']\n",
    "    capital_social = soup.find(id='ctl00_Contenido_CabEmisora_CapSocDat' ).text\n",
    "\n",
    "    tabla_cotiz = soup.find(id='ctl00_Contenido_tblPrecios')\n",
    "    cotiz_row = tabla_cotiz.find_all('tr')\n",
    "    cotiz = cotiz_row[1].find_all('td')\n",
    "\n",
    "    var = cotiz[4].text\n",
    "    vol_ses = cotiz[9].text\n",
    "    vol_efec = cotiz[10].text\n",
    "    \n",
    "    csv_writer.writerow([company.text, web_site, capital_social, cotiz[5].text, var+'%',\n",
    "                        vol_ses, vol_efec+'€', cotiz[0].text, cotiz[1].text])\n",
    "    \n",
    "csv_file.close()"
   ]
  },
  {
   "cell_type": "markdown",
   "id": "6e87fa90",
   "metadata": {},
   "source": [
    "El archivo csv lo podemos abrir en excel y posteriormente lo podemos adjuntar en un archivo word. Se adjuntan los archivos csv, excel y word."
   ]
  },
  {
   "cell_type": "markdown",
   "id": "42bc4a06",
   "metadata": {},
   "source": [
    "---\n",
    "\n",
    "## Ejercicio 3\n",
    "\n",
    "Elige una web y haz web scraping con Scrapy.\n",
    "\n",
    "---"
   ]
  },
  {
   "cell_type": "markdown",
   "id": "7543373a",
   "metadata": {},
   "source": [
    "Para este ejemplo haremos scraping de la web de la bolsa de Madrid de Iberdrola.\n",
    "\n",
    "Creamos el proyecto de Scrapy llamado **bolsa**\n",
    "\n",
    "Creamos el **spider bolsaspider** para obtener la misma informacion bursatil que obteniamos con BeautifulSoup o Selenium.\n"
   ]
  },
  {
   "cell_type": "code",
   "execution_count": 10,
   "id": "d2a1a2db",
   "metadata": {},
   "outputs": [],
   "source": [
    "import scrapy"
   ]
  },
  {
   "cell_type": "code",
   "execution_count": null,
   "id": "09b5e333",
   "metadata": {},
   "outputs": [],
   "source": [
    "class BolsaSpider(scrapy.Spider):\n",
    "    name = 'bolsaspider'\n",
    "    allowed_domains = ['www.bolsamadrid.es']\n",
    "    start_urls = ['https://www.bolsamadrid.es/esp/aspx/Empresas/FichaValor.aspx?ISIN=ES0144580Y14']\n",
    "    \n",
    "    def parse(self, response):\n",
    "        nom = response.css('th.Ult')\n",
    "        comp = nom.css('a::text').get()\n",
    "        \n",
    "        web_link= nom.css('a::attr(href)').get()\n",
    "        cap = response.css('[id=\"ctl00_Contenido_CabEmisora_CapSocDat\"]::text').get()\n",
    "        \n",
    "        tabla = response.css('[id=\"ctl00_Contenido_tblPrecios\"]')\n",
    "        cot = tabla.css('td::text')[5].get()\n",
    "        var = tabla.css('td::text')[4].get()\n",
    "        vol1 = tabla.css('td::text')[9].get()\n",
    "        vol2 = tabla.css('td::text')[10].get()\n",
    "        day = tabla.css('td::text')[0].get()\n",
    "        h = tabla.css('td::text')[1].get()\n",
    "        \n",
    "        print('Nombre de la Compañia: ', comp)\n",
    "        print('Portal Internet:', web_link)\n",
    "        print('Capital Social de', comp, ': ', cap)\n",
    "        print('Cotizacion:', cot)\n",
    "        print('Variación: ', var, '%')\n",
    "        print('Volumen Sesion:', vol1, '=',vol2,'€')\n",
    "        print('Actualizado a:', day ,'-', h)\n",
    "        print('-------------------------------------------------------------')\n",
    "   "
   ]
  },
  {
   "cell_type": "markdown",
   "id": "6f61ba58",
   "metadata": {},
   "source": [
    "Tras ejecutar en el terminal de windows el spider bolsaspider, obtenemos la siguiente salida por el mismo terminal:"
   ]
  },
  {
   "cell_type": "code",
   "execution_count": 11,
   "id": "958f23b2",
   "metadata": {},
   "outputs": [
    {
     "name": "stdout",
     "output_type": "stream",
     "text": [
      "bolsa> scrapy crawl bolsaspider\n",
      "2021-12-02 18:13:40 [scrapy.utils.log] INFO: Scrapy 2.5.1 started (bot: bolsa)\n"
     ]
    }
   ],
   "source": [
    "print('''bolsa> scrapy crawl bolsaspider\n",
    "2021-12-02 18:13:40 [scrapy.utils.log] INFO: Scrapy 2.5.1 started (bot: bolsa)''')"
   ]
  },
  {
   "cell_type": "code",
   "execution_count": 12,
   "id": "d233f047",
   "metadata": {},
   "outputs": [
    {
     "name": "stdout",
     "output_type": "stream",
     "text": [
      "Nombre de la Compañia:  IBERDROLA, S.A.\n",
      "Portal Internet: http://www.iberdrola.es\n",
      "Capital Social de IBERDROLA, S.A. :  4.774.566.000,00 Euros\n",
      "Cotizacion: 9,6300\n",
      "Variación:  -4,27 %\n",
      "Volumen Sesion: 19.568.647 = 190.236.280,37 €\n",
      "Actualizado a: 02/12/2021 - 17:35:19\n"
     ]
    }
   ],
   "source": [
    "print('''Nombre de la Compañia:  IBERDROLA, S.A.\n",
    "Portal Internet: http://www.iberdrola.es\n",
    "Capital Social de IBERDROLA, S.A. :  4.774.566.000,00 Euros\n",
    "Cotizacion: 9,6300\n",
    "Variación:  -4,27 %\n",
    "Volumen Sesion: 19.568.647 = 190.236.280,37 €\n",
    "Actualizado a: 02/12/2021 - 17:35:19''')"
   ]
  },
  {
   "cell_type": "markdown",
   "id": "a7b75316",
   "metadata": {},
   "source": [
    "Se adjunta otros logs proporcionados en la ejecucion del spider"
   ]
  },
  {
   "cell_type": "code",
   "execution_count": 13,
   "id": "41d3d106",
   "metadata": {},
   "outputs": [
    {
     "name": "stdout",
     "output_type": "stream",
     "text": [
      "2021-12-02 18:13:40 [scrapy.core.engine] INFO: Closing spider (finished)\n",
      "2021-12-02 18:13:40 [scrapy.statscollectors] INFO: Dumping Scrapy stats:\n",
      "{'downloader/request_bytes': 497,\n",
      " 'downloader/request_count': 2,\n",
      " 'downloader/request_method_count/GET': 2,\n",
      " 'downloader/response_bytes': 60332,\n",
      " 'downloader/response_count': 2,\n",
      " 'downloader/response_status_count/200': 1,\n",
      " 'downloader/response_status_count/404': 1,\n",
      " 'elapsed_time_seconds': 0.314713,\n",
      " 'finish_reason': 'finished',\n",
      " 'finish_time': datetime.datetime(2021, 12, 2, 17, 13, 40, 931096),\n",
      " 'httpcompression/response_bytes': 73599,\n",
      " 'httpcompression/response_count': 1,\n",
      " 'log_count/DEBUG': 72,\n",
      " 'log_count/INFO': 10,\n",
      " 'response_received_count': 2,\n",
      " 'robotstxt/request_count': 1,\n",
      " 'robotstxt/response_count': 1,\n",
      " 'robotstxt/response_status_count/404': 1,\n",
      " 'scheduler/dequeued': 1,\n",
      " 'scheduler/dequeued/memory': 1,\n",
      " 'scheduler/enqueued': 1,\n",
      " 'scheduler/enqueued/memory': 1,\n",
      " 'start_time': datetime.datetime(2021, 12, 2, 17, 13, 40, 616383)}\n",
      "2021-12-02 18:13:40 [scrapy.core.engine] INFO: Spider closed (finished)\n"
     ]
    }
   ],
   "source": [
    "print('''2021-12-02 18:13:40 [scrapy.core.engine] INFO: Closing spider (finished)\n",
    "2021-12-02 18:13:40 [scrapy.statscollectors] INFO: Dumping Scrapy stats:\n",
    "{'downloader/request_bytes': 497,\n",
    " 'downloader/request_count': 2,\n",
    " 'downloader/request_method_count/GET': 2,\n",
    " 'downloader/response_bytes': 60332,\n",
    " 'downloader/response_count': 2,\n",
    " 'downloader/response_status_count/200': 1,\n",
    " 'downloader/response_status_count/404': 1,\n",
    " 'elapsed_time_seconds': 0.314713,\n",
    " 'finish_reason': 'finished',\n",
    " 'finish_time': datetime.datetime(2021, 12, 2, 17, 13, 40, 931096),\n",
    " 'httpcompression/response_bytes': 73599,\n",
    " 'httpcompression/response_count': 1,\n",
    " 'log_count/DEBUG': 72,\n",
    " 'log_count/INFO': 10,\n",
    " 'response_received_count': 2,\n",
    " 'robotstxt/request_count': 1,\n",
    " 'robotstxt/response_count': 1,\n",
    " 'robotstxt/response_status_count/404': 1,\n",
    " 'scheduler/dequeued': 1,\n",
    " 'scheduler/dequeued/memory': 1,\n",
    " 'scheduler/enqueued': 1,\n",
    " 'scheduler/enqueued/memory': 1,\n",
    " 'start_time': datetime.datetime(2021, 12, 2, 17, 13, 40, 616383)}\n",
    "2021-12-02 18:13:40 [scrapy.core.engine] INFO: Spider closed (finished)''')"
   ]
  },
  {
   "cell_type": "code",
   "execution_count": null,
   "id": "7127f776",
   "metadata": {},
   "outputs": [],
   "source": []
  }
 ],
 "metadata": {
  "kernelspec": {
   "display_name": "Python 3 (ipykernel)",
   "language": "python",
   "name": "python3"
  },
  "language_info": {
   "codemirror_mode": {
    "name": "ipython",
    "version": 3
   },
   "file_extension": ".py",
   "mimetype": "text/x-python",
   "name": "python",
   "nbconvert_exporter": "python",
   "pygments_lexer": "ipython3",
   "version": "3.8.10"
  }
 },
 "nbformat": 4,
 "nbformat_minor": 5
}
